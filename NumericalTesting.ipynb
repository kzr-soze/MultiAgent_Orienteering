{
 "cells": [
  {
   "cell_type": "code",
   "execution_count": 18,
   "metadata": {
    "collapsed": true
   },
   "outputs": [],
   "source": [
    "import numpy as np\n",
    "from gurobipy import *\n",
    "import random"
   ]
  },
  {
   "cell_type": "code",
   "execution_count": 322,
   "metadata": {},
   "outputs": [],
   "source": [
    "def connected(vertex,adjacency,n,visited):\n",
    "    visited[vertex] = 1\n",
    "    row = adjacency[vertex]\n",
    "    \n",
    "    for node in range(n):\n",
    "        if row[node] > 0 and visited[node] < 1:\n",
    "            visited = connected(node,adjacency,n,visited)\n",
    "    \n",
    "    return visited\n",
    "\n",
    "def rand_DAG(N,p):\n",
    "    go = True\n",
    "    while go:\n",
    "        dag = np.zeros([N,N])\n",
    "        for i in np.arange(N):\n",
    "            for j in np.arange(i+1,N):\n",
    "                if (random.random() < p):\n",
    "                    dag[i][j] = 1\n",
    "        visited = np.zeros(N)\n",
    "        visited = connected(0,dag,N,visited)\n",
    "        if(visited[N-1] == 1):\n",
    "            go = False      \n",
    "    return dag\n",
    "\n",
    "def solve_TOP(adjacency,n,k,prizes,numPaths):\n",
    "    nodes = []\n",
    "    for i in range(n):\n",
    "        nodes.append(i)\n",
    "    m = Model(\"OP2\")\n",
    "    \n",
    "    m.setParam(GRB.Param.PoolSolutions,numPaths)\n",
    "    m.setParam(GRB.Param.PoolSearchMode,2)\n",
    "    \n",
    "    inflow = np.zeros(n)\n",
    "    inflow[0] = k\n",
    "    inflow[n-1] = -k\n",
    "    \n",
    "    visited = m.addVars(nodes, vtype=GRB.BINARY,  name=\"visited\")\n",
    "    flows = m.addVars(nodes,nodes, vtype = GRB.INTEGER, name=\"flows\")\n",
    "    \n",
    "    # Flow conservation\n",
    "    m.addConstrs(\n",
    "    (flows.sum('*',j) + inflow[j] == flows.sum(j,'*') for j in nodes), \"Conservation\")\n",
    "    \n",
    "    # Flow only on existing arcs\n",
    "    m.addConstrs((flows[i,j] <= adjacency[i,j] for i in nodes for j in nodes),\"EdgesPresent\")\n",
    "    \n",
    "    # Visited nodes\n",
    "    m.addConstrs((visited[j] <= flows.sum('*',j) for j in nodes), \"WhetherVisited\")\n",
    "    \n",
    "#     obj = quicksum(visited[j] * prizes[j])\n",
    "    \n",
    "    # Objective Function\n",
    "    m.setObjective((quicksum(visited[j]*prizes[j] for j in nodes)), GRB.MAXIMIZE)\n",
    "    \n",
    "    m.optimize()\n",
    "    if m.status == GRB.Status.OPTIMAL:\n",
    "        print(m.status)\n",
    "        solution = m.getAttr('x',flows)\n",
    "        for i in nodes:\n",
    "            for j in nodes:\n",
    "                if solution[i,j] > 0:\n",
    "                    print('%s -> %s: %g' % (i, j, solution[i,j]))\n",
    "    \n",
    "    #save model\n",
    "    \n",
    "    return m,flows\n",
    "\n",
    "# Assumes k = 1, constructs path from solution\n",
    "def construct_path(m,n,flows):\n",
    "    solution = m.getAttr('xn',flows)\n",
    "    path = []\n",
    "    nodes = range(n)\n",
    "    for i in nodes:\n",
    "        for j in nodes:\n",
    "            if solution[i,j] > 0:\n",
    "                path.append(j)\n",
    "    return path\n",
    "\n",
    "def score_paths(paths,k,prizes):\n",
    "    scores = np.zeros(k,dtype=int)\n",
    "    go = True\n",
    "    step = -1\n",
    "    while go:\n",
    "        go = False\n",
    "        step += 1\n",
    "        for player in range(k):\n",
    "            path = paths[player]\n",
    "            if len(path) > step:\n",
    "                scores[player] += prizes[path[step]]\n",
    "                prizes[path[step]] = 0\n",
    "                go = True\n",
    "    return scores\n"
   ]
  },
  {
   "cell_type": "code",
   "execution_count": 329,
   "metadata": {},
   "outputs": [
    {
     "name": "stdout",
     "output_type": "stream",
     "text": [
      "[[ 0.  1.  1.  1.  1.  0.  0.  1.  1.  0.]\n",
      " [ 0.  0.  0.  1.  1.  0.  1.  1.  1.  0.]\n",
      " [ 0.  0.  0.  1.  1.  1.  1.  1.  1.  1.]\n",
      " [ 0.  0.  0.  0.  1.  0.  0.  1.  1.  1.]\n",
      " [ 0.  0.  0.  0.  0.  0.  1.  1.  0.  1.]\n",
      " [ 0.  0.  0.  0.  0.  0.  1.  1.  1.  1.]\n",
      " [ 0.  0.  0.  0.  0.  0.  0.  0.  1.  1.]\n",
      " [ 0.  0.  0.  0.  0.  0.  0.  0.  1.  1.]\n",
      " [ 0.  0.  0.  0.  0.  0.  0.  0.  0.  0.]\n",
      " [ 0.  0.  0.  0.  0.  0.  0.  0.  0.  0.]]\n",
      "[0, 2, 1, 2, 2, 1, 2, 1, 1, 0]\n",
      "3\n"
     ]
    }
   ],
   "source": [
    "n = 10\n",
    "p = 0.7\n",
    "k = 1\n",
    "prizes = []\n",
    "for i in range(n):\n",
    "    prizes.append(random.randint(1,2))\n",
    "prizes[0] = 0\n",
    "prizes[n-1] = 0\n",
    "adj = rand_DAG(n,p)\n",
    "print(adj)\n",
    "print(prizes)\n",
    "\n",
    "temp = np.array([4,3,2])\n",
    "print(len(temp))"
   ]
  },
  {
   "cell_type": "code",
   "execution_count": 330,
   "metadata": {},
   "outputs": [
    {
     "name": "stdout",
     "output_type": "stream",
     "text": [
      "Changed value of parameter PoolSolutions to 100\n",
      "   Prev: 10  Min: 1  Max: 2000000000  Default: 10\n",
      "Changed value of parameter PoolSearchMode to 2\n",
      "   Prev: 0  Min: 0  Max: 2  Default: 0\n",
      "Optimize a model with 120 rows, 110 columns and 390 nonzeros\n",
      "Variable types: 0 continuous, 110 integer (10 binary)\n",
      "Coefficient statistics:\n",
      "  Matrix range     [1e+00, 1e+00]\n",
      "  Objective range  [1e+00, 2e+00]\n",
      "  Bounds range     [1e+00, 1e+00]\n",
      "  RHS range        [1e+00, 1e+00]\n",
      "Found heuristic solution: objective 1.0000000\n",
      "Presolve removed 105 rows and 77 columns\n",
      "Presolve time: 0.00s\n",
      "Presolved: 15 rows, 33 columns, 71 nonzeros\n",
      "Variable types: 0 continuous, 33 integer (33 binary)\n",
      "Found heuristic solution: objective 7.0000000\n",
      "\n",
      "Root relaxation: objective 8.000000e+00, 18 iterations, 0.00 seconds\n",
      "\n",
      "    Nodes    |    Current Node    |     Objective Bounds      |     Work\n",
      " Expl Unexpl |  Obj  Depth IntInf | Incumbent    BestBd   Gap | It/Node Time\n",
      "\n",
      "*    0     0               0       8.0000000    8.00000  0.00%     -    0s\n",
      "Optimal solution found at node 0 - now completing solution pool...\n",
      "     0     0          -    0         8.00000    8.00000  0.00%     -    0s\n",
      "     0     0          -    0         8.00000    8.00000  0.00%     -    0s\n",
      "     0     2          -    0         8.00000    8.00000  0.00%     -    0s\n",
      "\n",
      "Explored 284 nodes (90 simplex iterations) in 0.16 seconds\n",
      "Thread count was 4 (of 4 available processors)\n",
      "\n",
      "Solution count 100: 8 8 7 ... 4\n",
      "No other solutions better than 4\n",
      "\n",
      "Optimal solution found (tolerance 1.00e-04)\n",
      "Best objective 8.000000000000e+00, best bound 8.000000000000e+00, gap 0.0000%\n",
      "2\n",
      "0 -> 1: 1\n",
      "1 -> 3: 1\n",
      "3 -> 4: 1\n",
      "4 -> 6: 1\n",
      "6 -> 9: 1\n",
      "[0.0, 1.0, 0.0, 1.0, 1.0, 0.0, 1.0, 0.0, 0.0, -0.0, 0.0, 1.0, 0.0, -0.0, -0.0, 0.0, 0.0, -0.0, 0.0, 0.0, 0.0, 0.0, 0.0, 1.0, 0.0, 0.0, -0.0, -0.0, 0.0, 0.0, 0.0, 0.0, 0.0, -0.0, -0.0, 0.0, -0.0, -0.0, 0.0, -0.0, 0.0, 0.0, 0.0, 0.0, 1.0, 0.0, 0.0, -0.0, 0.0, -0.0, 0.0, 0.0, 0.0, 0.0, 0.0, 0.0, 1.0, -0.0, 0.0, -0.0, 0.0, 0.0, 0.0, 0.0, 0.0, 0.0, 0.0, 0.0, 0.0, -0.0, 0.0, 0.0, 0.0, 0.0, 0.0, 0.0, 0.0, 0.0, 0.0, 1.0, 0.0, 0.0, 0.0, 0.0, 0.0, 0.0, 0.0, 0.0, 0.0, 0.0, 0.0, 0.0, 0.0, 0.0, 0.0, 0.0, 0.0, 0.0, 0.0, 0.0, 0.0, 0.0, 0.0, 0.0, 0.0, 0.0, 0.0, 0.0, 0.0, 0.0]\n",
      "Changed value of parameter SolutionNumber to 99\n",
      "   Prev: 0  Min: 0  Max: 2000000000  Default: 0\n",
      "[0.0, 1.0, 0.0, -0.0, 1.0, 0.0, -0.0, -0.0, 0.0, 1.0, 0.0, 1.0, 0.0, -0.0, -0.0, 0.0, 0.0, -0.0, 0.0, 0.0, 0.0, 0.0, 0.0, 1.0, 0.0, 0.0, -0.0, -0.0, 0.0, 0.0, 0.0, 0.0, 0.0, -0.0, -0.0, 0.0, -0.0, -0.0, 0.0, -0.0, 0.0, 0.0, 0.0, 0.0, 1.0, 0.0, 0.0, -0.0, 0.0, -0.0, 0.0, 0.0, 0.0, 0.0, 0.0, 0.0, 0.0, 0.0, 0.0, 1.0, 0.0, 0.0, 0.0, 0.0, 0.0, 0.0, -0.0, 0.0, 0.0, -0.0, 0.0, 0.0, 0.0, 0.0, 0.0, 0.0, 0.0, 0.0, 0.0, 0.0, 0.0, 0.0, 0.0, 0.0, 0.0, 0.0, 0.0, 0.0, 0.0, 0.0, 0.0, 0.0, 0.0, 0.0, 0.0, 0.0, 0.0, 0.0, 0.0, 0.0, 0.0, 0.0, 0.0, 0.0, 0.0, 0.0, 0.0, 0.0, 0.0, 0.0]\n",
      "[1, 3, 4, 9]\n"
     ]
    }
   ],
   "source": [
    "model,flows = solve_TOP(adj,n,k,prizes,100)\n",
    "temp = model.getAttr('x')\n",
    "print(model.getAttr('x'))\n",
    "# print(construct_path(model,n,flows))\n",
    "model.setParam(GRB.Param.SolutionNumber,99)\n",
    "print(model.getAttr('xn'))\n",
    "print(construct_path(model,n,flows))"
   ]
  },
  {
   "cell_type": "code",
   "execution_count": 321,
   "metadata": {},
   "outputs": [
    {
     "name": "stdout",
     "output_type": "stream",
     "text": [
      "{(0, 0): 0.0, (0, 1): 1.0, (0, 2): 0.0, (0, 3): 0.0, (0, 4): 0.0, (0, 5): -0.0, (0, 6): 0.0, (0, 7): -0.0, (0, 8): -0.0, (0, 9): -0.0, (1, 0): 0.0, (1, 1): 0.0, (1, 2): 1.0, (1, 3): -0.0, (1, 4): 0.0, (1, 5): -0.0, (1, 6): -0.0, (1, 7): -0.0, (1, 8): 0.0, (1, 9): -0.0, (2, 0): 0.0, (2, 1): 0.0, (2, 2): 0.0, (2, 3): 0.0, (2, 4): 0.0, (2, 5): 1.0, (2, 6): -0.0, (2, 7): 0.0, (2, 8): 0.0, (2, 9): 0.0, (3, 0): 0.0, (3, 1): 0.0, (3, 2): 0.0, (3, 3): 0.0, (3, 4): 0.0, (3, 5): 0.0, (3, 6): 0.0, (3, 7): 0.0, (3, 8): 0.0, (3, 9): 0.0, (4, 0): 0.0, (4, 1): 0.0, (4, 2): 0.0, (4, 3): 0.0, (4, 4): 0.0, (4, 5): -0.0, (4, 6): -0.0, (4, 7): 0.0, (4, 8): 0.0, (4, 9): 0.0, (5, 0): 0.0, (5, 1): 0.0, (5, 2): 0.0, (5, 3): 0.0, (5, 4): 0.0, (5, 5): 0.0, (5, 6): 1.0, (5, 7): 0.0, (5, 8): -0.0, (5, 9): 0.0, (6, 0): 0.0, (6, 1): 0.0, (6, 2): 0.0, (6, 3): 0.0, (6, 4): 0.0, (6, 5): 0.0, (6, 6): 0.0, (6, 7): 1.0, (6, 8): -0.0, (6, 9): -0.0, (7, 0): 0.0, (7, 1): 0.0, (7, 2): 0.0, (7, 3): 0.0, (7, 4): 0.0, (7, 5): 0.0, (7, 6): 0.0, (7, 7): 0.0, (7, 8): 1.0, (7, 9): 0.0, (8, 0): 0.0, (8, 1): 0.0, (8, 2): 0.0, (8, 3): 0.0, (8, 4): 0.0, (8, 5): 0.0, (8, 6): 0.0, (8, 7): 0.0, (8, 8): 0.0, (8, 9): 1.0, (9, 0): 0.0, (9, 1): 0.0, (9, 2): 0.0, (9, 3): 0.0, (9, 4): 0.0, (9, 5): 0.0, (9, 6): 0.0, (9, 7): 0.0, (9, 8): 0.0, (9, 9): 0.0}\n",
      "[0.0, 1.0, 1.0, -0.0, 0.0, 1.0, 1.0, 1.0, 1.0, -0.0, 0.0, 1.0, 0.0, 0.0, 0.0, -0.0, 0.0, -0.0, -0.0, -0.0, 0.0, 0.0, 1.0, -0.0, 0.0, -0.0, -0.0, -0.0, 0.0, -0.0, 0.0, 0.0, 0.0, 0.0, 0.0, 1.0, -0.0, 0.0, 0.0, 0.0, 0.0, 0.0, 0.0, 0.0, 0.0, 0.0, 0.0, 0.0, 0.0, 0.0, 0.0, 0.0, 0.0, 0.0, 0.0, -0.0, -0.0, 0.0, 0.0, 0.0, 0.0, 0.0, 0.0, 0.0, 0.0, 0.0, 1.0, 0.0, -0.0, 0.0, 0.0, 0.0, 0.0, 0.0, 0.0, 0.0, 0.0, 1.0, -0.0, -0.0, 0.0, 0.0, 0.0, 0.0, 0.0, 0.0, 0.0, 0.0, 1.0, 0.0, 0.0, 0.0, 0.0, 0.0, 0.0, 0.0, 0.0, 0.0, 0.0, 1.0, 0.0, 0.0, 0.0, 0.0, 0.0, 0.0, 0.0, 0.0, 0.0, 0.0]\n"
     ]
    }
   ],
   "source": [
    "\n",
    "x = model.getAttr('x',flows)\n",
    "y = model.getAttr('x')\n",
    "print(x)\n",
    "print(y)\n"
   ]
  },
  {
   "cell_type": "code",
   "execution_count": null,
   "metadata": {
    "collapsed": true
   },
   "outputs": [],
   "source": []
  }
 ],
 "metadata": {
  "kernelspec": {
   "display_name": "Python 3",
   "language": "python",
   "name": "python3"
  },
  "language_info": {
   "codemirror_mode": {
    "name": "ipython",
    "version": 3
   },
   "file_extension": ".py",
   "mimetype": "text/x-python",
   "name": "python",
   "nbconvert_exporter": "python",
   "pygments_lexer": "ipython3",
   "version": "3.6.3"
  }
 },
 "nbformat": 4,
 "nbformat_minor": 2
}
